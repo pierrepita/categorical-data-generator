{
 "cells": [
  {
   "cell_type": "code",
   "execution_count": 139,
   "metadata": {},
   "outputs": [],
   "source": [
    "import random\n",
    "import csv"
   ]
  },
  {
   "cell_type": "code",
   "execution_count": 122,
   "metadata": {},
   "outputs": [],
   "source": [
    "def generate_weights(seed_list, n_cat, n_clusters):\n",
    "    limit = 1\n",
    "\n",
    "    w_clusters = []\n",
    "    if len(seed_list) == n_clusters:\n",
    "        for k in range(n_clusters):\n",
    "            w = []\n",
    "            random.seed(seed_list[k])\n",
    "            for i in range(n_cat-1):\n",
    "#                 print limit\n",
    "                w_iter = round(random.uniform(0,limit), 2)\n",
    "                limit -= w_iter\n",
    "                w.append(w_iter)\n",
    "            w.append(round(1 - sum(w),2))\n",
    "            w_clusters.append(w)\n",
    "    else: \n",
    "        print \"The number of seeds and clusters must be the same.\"\n",
    "    return w_clusters\n",
    "    "
   ]
  },
  {
   "cell_type": "code",
   "execution_count": 128,
   "metadata": {},
   "outputs": [
    {
     "data": {
      "text/plain": [
       "[[0.24, 0.76], [0.6, 0.4]]"
      ]
     },
     "execution_count": 128,
     "metadata": {},
     "output_type": "execute_result"
    }
   ],
   "source": [
    "generate_weights(seed_list=[3,6], n_cat=2, n_clusters=2)"
   ]
  },
  {
   "cell_type": "code",
   "execution_count": 112,
   "metadata": {},
   "outputs": [
    {
     "name": "stdout",
     "output_type": "stream",
     "text": [
      "1\n",
      "0.76\n",
      "0.66\n",
      "0.02\n"
     ]
    },
    {
     "data": {
      "text/plain": [
       "[[0.24, 0.76], [0.1, 0.9], [0.64, 0.36], [0.01, 0.99]]"
      ]
     },
     "execution_count": 112,
     "metadata": {},
     "output_type": "execute_result"
    }
   ],
   "source": [
    "generate_weights(seed_list=[3,1,56,45], n_cat=2, n_clusters=4)"
   ]
  },
  {
   "cell_type": "code",
   "execution_count": 29,
   "metadata": {},
   "outputs": [
    {
     "data": {
      "text/plain": [
       "0.3264169133763982"
      ]
     },
     "execution_count": 29,
     "metadata": {},
     "output_type": "execute_result"
    }
   ],
   "source": [
    "random.uniform(0,1)"
   ]
  },
  {
   "cell_type": "code",
   "execution_count": 106,
   "metadata": {},
   "outputs": [
    {
     "name": "stdout",
     "output_type": "stream",
     "text": [
      "1\n",
      "0.76\n",
      "0.38\n",
      "0.37\n",
      "0.11\n",
      "0.11\n"
     ]
    }
   ],
   "source": [
    "seed_list=[51, 43, 86]\n",
    "random.seed(seed)\n",
    "n_cat = 3\n",
    "n_clusters = 3\n",
    "limit = 1\n",
    "\n",
    "w_clusters = []\n",
    "if len(seed_list) == n_clusters:\n",
    "    for k in range(n_clusters):\n",
    "        w = []\n",
    "        random.seed(seed_list[k])\n",
    "        for i in range(n_cat-1):\n",
    "            print limit\n",
    "            w_iter = round(random.uniform(0,limit), 2)\n",
    "            limit -= w_iter\n",
    "            w.append(w_iter)\n",
    "        w.append(round(1 - sum(w),2))\n",
    "        w_clusters.append(w)\n",
    "else: \n",
    "    print \"The number of seeds and clusters must be the same.\""
   ]
  },
  {
   "cell_type": "code",
   "execution_count": 107,
   "metadata": {},
   "outputs": [
    {
     "data": {
      "text/plain": [
       "1.0"
      ]
     },
     "execution_count": 107,
     "metadata": {},
     "output_type": "execute_result"
    }
   ],
   "source": [
    "sum(w)"
   ]
  },
  {
   "cell_type": "code",
   "execution_count": 108,
   "metadata": {},
   "outputs": [
    {
     "data": {
      "text/plain": [
       "[[0.24, 0.38, 0.38], [0.01, 0.26, 0.73], [0.0, 0.08, 0.92]]"
      ]
     },
     "execution_count": 108,
     "metadata": {},
     "output_type": "execute_result"
    }
   ],
   "source": [
    "w_clusters"
   ]
  },
  {
   "cell_type": "code",
   "execution_count": 104,
   "metadata": {},
   "outputs": [
    {
     "data": {
      "text/plain": [
       "[[0.24, 0.38, 0.38], [0.01, 0.26, 0.73], [0.0, 0.08, 0.92]]"
      ]
     },
     "execution_count": 104,
     "metadata": {},
     "output_type": "execute_result"
    }
   ],
   "source": [
    "w_clusters"
   ]
  },
  {
   "cell_type": "code",
   "execution_count": 105,
   "metadata": {},
   "outputs": [
    {
     "name": "stdout",
     "output_type": "stream",
     "text": [
      "1.0\n",
      "1.0\n",
      "1.0\n"
     ]
    }
   ],
   "source": [
    "for x in w_clusters:\n",
    "    print sum(x)"
   ]
  },
  {
   "cell_type": "code",
   "execution_count": 147,
   "metadata": {},
   "outputs": [
    {
     "name": "stdout",
     "output_type": "stream",
     "text": [
      "0,0,0.32,0.11,0.3\n",
      "0,1,0.68,0.89,0.7\n",
      "1,0,0.91,0.05,-0.0\n",
      "1,1,0.03,0.01,-0.0\n",
      "1,2,0.06,0.94,1.0\n",
      "2,0,0.68,0.16,0.0\n",
      "2,1,0.03,0.06,0.0\n",
      "2,2,0.05,0.01,0.0\n",
      "2,3,0.24,0.77,1.0\n"
     ]
    }
   ],
   "source": [
    "# attr,catetgory,k_1_weight,...,k_p_weight\n",
    "\n",
    "def write_weights_csv(lines, n_clusters, filename='weights'):\n",
    "    clusters_names = ['k_{}_weights'.format(n) for n in range(n_clusters)]\n",
    "    clusters_names = ','.join(clusters_names)\n",
    "    header = 'attribute,category,' + clusters_names\n",
    "    \n",
    "    output_file = open(filename+'.csv', 'a')\n",
    "    output_file.write(header + '\\n')\n",
    "    for line in lines:\n",
    "        line = [str(l) for l in line]\n",
    "        line = ','.join(line)\n",
    "        output_file.write(line + '\\n')\n",
    "\n",
    "n_attr = 3\n",
    "list_n_categories = [2,3,4]\n",
    "n_clusters = 3\n",
    "seed_list = [71,21,34]\n",
    "text_line = []\n",
    "for attr in range(n_attr):\n",
    "    n_cat = list_n_categories[attr]\n",
    "    weights = generate_weights(seed_list, n_cat, n_clusters)\n",
    "    seed_list = [n-1 for n in seed_list]\n",
    "#     print attr\n",
    "    for cat in range(n_cat):\n",
    "#         print cat\n",
    "        line = [attr, cat]\n",
    "        for c in range(n_clusters):\n",
    "            line.append(weights[c][cat])\n",
    "        text_line.append(line)   \n",
    "        \n",
    "for line in text_line:\n",
    "    line = [str(l) for l in line]\n",
    "    line = ','.join(line)\n",
    "    print line\n",
    "\n",
    "write_weights_csv(text_line, n_clusters)\n",
    "\n"
   ]
  },
  {
   "cell_type": "code",
   "execution_count": 113,
   "metadata": {},
   "outputs": [],
   "source": [
    "seed_list = [3,1,56]"
   ]
  },
  {
   "cell_type": "code",
   "execution_count": 116,
   "metadata": {},
   "outputs": [
    {
     "data": {
      "text/plain": [
       "[2, 0, 55]"
      ]
     },
     "execution_count": 116,
     "metadata": {},
     "output_type": "execute_result"
    }
   ],
   "source": [
    "[n-1 for n in seed_list]"
   ]
  },
  {
   "cell_type": "code",
   "execution_count": 117,
   "metadata": {},
   "outputs": [],
   "source": [
    "a = [2,3,4,1]"
   ]
  },
  {
   "cell_type": "code",
   "execution_count": 118,
   "metadata": {},
   "outputs": [],
   "source": [
    "b = [str(n) for n in a]"
   ]
  },
  {
   "cell_type": "code",
   "execution_count": 119,
   "metadata": {},
   "outputs": [
    {
     "data": {
      "text/plain": [
       "['2', '3', '4', '1']"
      ]
     },
     "execution_count": 119,
     "metadata": {},
     "output_type": "execute_result"
    }
   ],
   "source": [
    "b"
   ]
  },
  {
   "cell_type": "code",
   "execution_count": 120,
   "metadata": {},
   "outputs": [
    {
     "data": {
      "text/plain": [
       "'2,3,4,1'"
      ]
     },
     "execution_count": 120,
     "metadata": {},
     "output_type": "execute_result"
    }
   ],
   "source": [
    "','.join(b)"
   ]
  },
  {
   "cell_type": "code",
   "execution_count": 143,
   "metadata": {},
   "outputs": [],
   "source": [
    "n_clusters = 3"
   ]
  },
  {
   "cell_type": "code",
   "execution_count": 144,
   "metadata": {},
   "outputs": [],
   "source": [
    "clusters_names = ['k_{}_weights'.format(n) for n in range(n_clusters)]"
   ]
  },
  {
   "cell_type": "code",
   "execution_count": 145,
   "metadata": {},
   "outputs": [
    {
     "data": {
      "text/plain": [
       "['k_0_weights', 'k_1_weights', 'k_2_weights']"
      ]
     },
     "execution_count": 145,
     "metadata": {},
     "output_type": "execute_result"
    }
   ],
   "source": [
    "clusters_names"
   ]
  },
  {
   "cell_type": "code",
   "execution_count": null,
   "metadata": {},
   "outputs": [],
   "source": []
  }
 ],
 "metadata": {
  "kernelspec": {
   "display_name": "Python 2",
   "language": "python",
   "name": "python2"
  },
  "language_info": {
   "codemirror_mode": {
    "name": "ipython",
    "version": 2
   },
   "file_extension": ".py",
   "mimetype": "text/x-python",
   "name": "python",
   "nbconvert_exporter": "python",
   "pygments_lexer": "ipython2",
   "version": "2.7.15"
  }
 },
 "nbformat": 4,
 "nbformat_minor": 2
}
