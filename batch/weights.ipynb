{
 "cells": [
  {
   "cell_type": "code",
   "execution_count": 6,
   "metadata": {},
   "outputs": [],
   "source": [
    "import random\n",
    "import csv"
   ]
  },
  {
   "cell_type": "code",
   "execution_count": 7,
   "metadata": {},
   "outputs": [],
   "source": [
    "def generate_weights(seed_list, n_cat, n_clusters):\n",
    "    w_clusters = []\n",
    "    if len(seed_list) == n_clusters:\n",
    "        for k in range(n_clusters):\n",
    "            limit = 1\n",
    "            w = []\n",
    "            random.seed(seed_list[k])\n",
    "            for i in range(n_cat-1):\n",
    "#                 print limit\n",
    "                w_iter = round(random.uniform(0,limit), 2)\n",
    "                limit -= w_iter\n",
    "                w.append(w_iter)\n",
    "            w_iter = round(1 - sum(w),2)\n",
    "            w.append(abs(w_iter))\n",
    "            w_clusters.append(w)\n",
    "    else: \n",
    "        print \"The number of seeds and clusters must be the same.\"\n",
    "    return w_clusters\n",
    "\n",
    "def write_weights_csv(lines, n_clusters, filename='weights'):\n",
    "    clusters_names = ['k_{}_weights'.format(n) for n in range(n_clusters)]\n",
    "    clusters_names = ','.join(clusters_names)\n",
    "    header = 'attribute,category,' + clusters_names\n",
    "    \n",
    "    output_file = open(filename+'.csv', 'wb')\n",
    "    output_file.write(header + '\\n')\n",
    "    for line in lines:\n",
    "        line = [str(l) for l in line]\n",
    "        line = ','.join(line)\n",
    "        output_file.write(line + '\\n')\n",
    "\n",
    "def generate_matrix(n_attr, list_n_categories, n_clusters, seed_list, filename):\n",
    "    \"\"\"\n",
    "    Create a csv file named as weights.csv with the following columns:\n",
    "    attr,catetgory,k_1_weight,...,k_p_weight\n",
    "\n",
    "    Usage: generate_matrix(n_attr, list_n_categories, n_clusters, seed_list)\n",
    "    Example: \n",
    "    n_attr = 3\n",
    "    list_n_categories = [2,3,4]\n",
    "    n_clusters = 3\n",
    "    seed_list = [71,21,34]\n",
    "    generate_matrix(n_attr, list_n_categories, n_clusters, seed_list)\n",
    "    \"\"\"\n",
    "    text_line = []\n",
    "    for attr in range(n_attr):\n",
    "        n_cat = list_n_categories[attr]\n",
    "        weights = generate_weights(seed_list, n_cat, n_clusters)\n",
    "        seed_list = [n-1 for n in seed_list]\n",
    "        for cat in range(n_cat):\n",
    "            line = [attr, cat]\n",
    "            for c in range(n_clusters):\n",
    "                line.append(weights[c][cat])\n",
    "            text_line.append(line)\n",
    "\n",
    "    write_weights_csv(text_line, n_clusters, filename)"
   ]
  },
  {
   "cell_type": "code",
   "execution_count": 8,
   "metadata": {},
   "outputs": [],
   "source": [
    "# in case of generate new seed triple, uncomment this cell code\n",
    "# a=0, b=1, c=2\n",
    "\n",
    "# for x in range(100):\n",
    "#     print \"[{}, {}, {}],\".format(a,b,c)\n",
    "#     a+=1, b+=1, c+=1"
   ]
  },
  {
   "cell_type": "code",
   "execution_count": 9,
   "metadata": {},
   "outputs": [],
   "source": [
    "seed_lists = [\n",
    "    [0, 1, 2], [1, 2, 3], [2, 3, 4], [3, 4, 5], [4, 5, 6], [5, 6, 7],\n",
    "    [6, 7, 8], [7, 8, 9], [8, 9, 10], [9, 10, 11], [10, 11, 12], [11, 12, 13],\n",
    "    [12, 13, 14], [13, 14, 15], [14, 15, 16], [15, 16, 17], [16, 17, 18], [17, 18, 19], \n",
    "    [18, 19, 20], [19, 20, 21], [20, 21, 22], [21, 22, 23], [22, 23, 24], [23, 24, 25], \n",
    "    [24, 25, 26], [25, 26, 27], [26, 27, 28], [27, 28, 29], [28, 29, 30], [29, 30, 31],\n",
    "    [30, 31, 32], [31, 32, 33], [32, 33, 34], [33, 34, 35], [34, 35, 36], [35, 36, 37],\n",
    "    [36, 37, 38], [37, 38, 39], [38, 39, 40], [39, 40, 41], [40, 41, 42], [41, 42, 43],\n",
    "    [42, 43, 44], [43, 44, 45], [44, 45, 46], [45, 46, 47], [46, 47, 48], [47, 48, 49],\n",
    "    [48, 49, 50], [49, 50, 51], [50, 51, 52], [51, 52, 53], [52, 53, 54], [53, 54, 55],\n",
    "    [54, 55, 56], [55, 56, 57], [56, 57, 58], [57, 58, 59], [58, 59, 60], [59, 60, 61],\n",
    "    [60, 61, 62], [61, 62, 63], [62, 63, 64], [63, 64, 65], [64, 65, 66], [65, 66, 67],\n",
    "    [66, 67, 68], [67, 68, 69], [68, 69, 70], [69, 70, 71], [70, 71, 72], [71, 72, 73],\n",
    "    [72, 73, 74], [73, 74, 75], [74, 75, 76], [75, 76, 77], [76, 77, 78], [77, 78, 79],\n",
    "    [78, 79, 80], [79, 80, 81], [80, 81, 82], [81, 82, 83], [82, 83, 84], [83, 84, 85],\n",
    "    [84, 85, 86], [85, 86, 87], [86, 87, 88], [87, 88, 89], [88, 89, 90], [89, 90, 91],\n",
    "    [90, 91, 92], [91, 92, 93], [92, 93, 94], [93, 94, 95], [94, 95, 96], [95, 96, 97],\n",
    "    [96, 97, 98], [97, 98, 99], [98, 99, 100], [99, 100, 101]\n",
    "]"
   ]
  },
  {
   "cell_type": "code",
   "execution_count": 10,
   "metadata": {},
   "outputs": [],
   "source": [
    "n_attr = 5\n",
    "list_n_categories = [2,3,3,4,5]\n",
    "n_clusters = 3\n",
    "# seed_list = [71,21,34]\n",
    "n = 0\n",
    "for seed_list in seed_lists:\n",
    "    suffix = str(seed_list).replace(' ', '').replace(',', '_').replace('[', '').replace(']', '')\n",
    "    filename = 'weights/weights_'+str(n)+'_'+suffix\n",
    "    generate_matrix(n_attr, list_n_categories, n_clusters, seed_list, filename)\n",
    "    n+=1"
   ]
  }
 ],
 "metadata": {
  "kernelspec": {
   "display_name": "Python 2",
   "language": "python",
   "name": "python2"
  },
  "language_info": {
   "codemirror_mode": {
    "name": "ipython",
    "version": 2
   },
   "file_extension": ".py",
   "mimetype": "text/x-python",
   "name": "python",
   "nbconvert_exporter": "python",
   "pygments_lexer": "ipython2",
   "version": "2.7.15"
  }
 },
 "nbformat": 4,
 "nbformat_minor": 2
}
