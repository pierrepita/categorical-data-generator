{
 "cells": [
  {
   "cell_type": "code",
   "execution_count": 179,
   "metadata": {},
   "outputs": [],
   "source": [
    "import random\n",
    "import csv"
   ]
  },
  {
   "cell_type": "code",
   "execution_count": 180,
   "metadata": {},
   "outputs": [],
   "source": [
    "def generate_weights(seed_list, n_cat, n_clusters):\n",
    "    w_clusters = []\n",
    "    if len(seed_list) == n_clusters:\n",
    "        for k in range(n_clusters):\n",
    "            limit = 1\n",
    "            w = []\n",
    "            random.seed(seed_list[k])\n",
    "            for i in range(n_cat-1):\n",
    "#                 print limit\n",
    "                w_iter = round(random.uniform(0,limit), 2)\n",
    "                limit -= w_iter\n",
    "                w.append(w_iter)\n",
    "            w_iter = round(1 - sum(w),2)\n",
    "            w.append(abs(w_iter))\n",
    "            w_clusters.append(w)\n",
    "    else: \n",
    "        print \"The number of seeds and clusters must be the same.\"\n",
    "    return w_clusters\n",
    "\n",
    "def write_weights_csv(lines, n_clusters, filename='weights'):\n",
    "    clusters_names = ['k_{}_weights'.format(n) for n in range(n_clusters)]\n",
    "    clusters_names = ','.join(clusters_names)\n",
    "    header = 'attribute,category,' + clusters_names\n",
    "    \n",
    "    output_file = open(filename+'.csv', 'wb')\n",
    "    output_file.write(header + '\\n')\n",
    "    for line in lines:\n",
    "        line = [str(l) for l in line]\n",
    "        line = ','.join(line)\n",
    "        output_file.write(line + '\\n')\n",
    "\n",
    "def generate_matrix(n_attr, list_n_categories, n_clusters, seed_list):\n",
    "    \"\"\"\n",
    "    Create a csv file named as weights.csv with the following columns:\n",
    "    attr,catetgory,k_1_weight,...,k_p_weight\n",
    "\n",
    "    Usage: generate_matrix(n_attr, list_n_categories, n_clusters, seed_list)\n",
    "    Example: \n",
    "    n_attr = 3\n",
    "    list_n_categories = [2,3,4]\n",
    "    n_clusters = 3\n",
    "    seed_list = [71,21,34]\n",
    "    generate_matrix(n_attr, list_n_categories, n_clusters, seed_list)\n",
    "    \"\"\"\n",
    "    text_line = []\n",
    "    for attr in range(n_attr):\n",
    "        n_cat = list_n_categories[attr]\n",
    "        weights = generate_weights(seed_list, n_cat, n_clusters)\n",
    "        seed_list = [n-1 for n in seed_list]\n",
    "        for cat in range(n_cat):\n",
    "            line = [attr, cat]\n",
    "            for c in range(n_clusters):\n",
    "                line.append(weights[c][cat])\n",
    "            text_line.append(line)\n",
    "\n",
    "    write_weights_csv(text_line, n_clusters)"
   ]
  },
  {
   "cell_type": "code",
   "execution_count": 181,
   "metadata": {},
   "outputs": [],
   "source": [
    "n_attr = 5\n",
    "list_n_categories = [2,3,3,4,5]\n",
    "n_clusters = 3\n",
    "seed_list = [71,21,34]\n",
    "\n",
    "generate_matrix(n_attr, list_n_categories, n_clusters, seed_list)"
   ]
  },
  {
   "cell_type": "code",
   "execution_count": null,
   "metadata": {},
   "outputs": [],
   "source": []
  }
 ],
 "metadata": {
  "kernelspec": {
   "display_name": "Python 2",
   "language": "python",
   "name": "python2"
  },
  "language_info": {
   "codemirror_mode": {
    "name": "ipython",
    "version": 2
   },
   "file_extension": ".py",
   "mimetype": "text/x-python",
   "name": "python",
   "nbconvert_exporter": "python",
   "pygments_lexer": "ipython2",
   "version": "2.7.15"
  }
 },
 "nbformat": 4,
 "nbformat_minor": 2
}
